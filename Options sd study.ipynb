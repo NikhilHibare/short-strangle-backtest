{
 "cells": [
  {
   "cell_type": "code",
   "execution_count": 1,
   "metadata": {},
   "outputs": [],
   "source": [
    "import pandas as pd\n",
    "from datetime import datetime, timedelta\n",
    "import time\n",
    "import numpy as np\n",
    "import qfin as qf"
   ]
  },
  {
   "cell_type": "code",
   "execution_count": 2,
   "metadata": {},
   "outputs": [],
   "source": [
    "underlying = pd.read_csv(r'E:\\NSEI.csv', index_col = 0, parse_dates=['Date'])\n",
    "nse_xdt = pd.read_csv(r'E:\\NSE_xdt.csv', parse_dates=['Date'])\n",
    "nse_xdt = nse_xdt[nse_xdt['Date'] > nse_xdt['Date'].iloc[2]]"
   ]
  },
  {
   "cell_type": "code",
   "execution_count": 3,
   "metadata": {},
   "outputs": [],
   "source": [
    "xdt = 'EXPIRY_DT'\n",
    "ind = 'NIFTY'\n",
    "stp = 'STRIKE_PR'\n",
    "smb = 'SYMBOL'\n",
    "itm = 'INSTRUMENT'\n",
    "otp = 'OPTION_TYP'\n",
    "odi = 'OPTIDX'"
   ]
  },
  {
   "cell_type": "code",
   "execution_count": 4,
   "metadata": {},
   "outputs": [],
   "source": [
    "def file_name_from_date(trade_date):\n",
    "    return (trade_date.strftime(\"%Y\") + \n",
    "            trade_date.strftime(\"%m\") + \n",
    "            trade_date.strftime(\"%d\"))\n",
    "\n",
    "def make_df_from_date(d):\n",
    "    return pd.read_csv('E:\\\\NSE\\\\' + file_name_from_date(d) + '.csv', parse_dates=['EXPIRY_DT'])\n",
    "\n",
    "def day_to_trade(end_date, distance):\n",
    "    return underlying.index[underlying.index.get_loc(end_date) - distance]\n",
    "\n",
    "# def get_stp(t_date, opt_typ, one = True): # has to be calculated on its own based on theta and wingspan\n",
    "#     return (underlying.loc[t_date]['1sd ' + opt_typ] * one + \n",
    "#             underlying.loc[t_date]['1.5sd ' + opt_typ]* (1 - one))\n",
    "\n",
    "def get_winged_stp(t_date, opt_typ, wings =  1, at_open = True, theta = 1): # has to \n",
    "    index_pos = underlying.index.get_loc(t_date)\n",
    "    if at_open:\n",
    "        avg_underlying = (underlying.iloc[index_pos - 1]['Open'] + underlying.iloc[index_pos - 1]['Close']) / 2\n",
    "        avg_vix = (underlying.iloc[index_pos - 1]['vix O'] + underlying.iloc[index_pos - 1]['vix C']) / 2\n",
    "    else:\n",
    "        avg_underlying = (underlying.iloc[index_pos]['Open'] + underlying.iloc[index_pos]['Close']) / 2\n",
    "        avg_vix = (underlying.iloc[index_pos]['vix O'] + underlying.iloc[index_pos]['vix C']) / 2\n",
    "    percent = avg_vix / ((250 / theta) ** 0.5) / 100\n",
    "    percent = 1 - percent * ((opt_typ == 'PE') - (opt_typ == 'CE')) * wings\n",
    "    return mround(avg_underlying * percent)\n",
    "\n",
    "def no_trades(df, opt_xdt, opt_stp, opt_typ,):\n",
    "    return (df[(df[smb] == ind) & \n",
    "               (df[itm] == odi) & \n",
    "               (df[xdt] == opt_xdt) &\n",
    "               (df[stp] == opt_stp) & \n",
    "               (df[otp] == opt_typ)].iloc[0]['HIGH'] == 0)"
   ]
  },
  {
   "cell_type": "code",
   "execution_count": 5,
   "metadata": {},
   "outputs": [],
   "source": [
    "def mround(x, base=50):\n",
    "    return int(base * round(float(x)/base))\n",
    "\n",
    "def b_s_days(theta, depth):\n",
    "    b = []\n",
    "    s = []\n",
    "    for i in range(depth):\n",
    "        s.append(i) \n",
    "        b.append(theta - 1 + i)\n",
    "    return list(zip(b, s))"
   ]
  },
  {
   "cell_type": "code",
   "execution_count": 19,
   "metadata": {},
   "outputs": [],
   "source": [
    "def option(df, opt_xdt, opt_stp, opt_typ, at_open = False, enter = True):\n",
    "    if no_trades(df, opt_xdt, opt_stp, opt_typ):\n",
    "        index_pos = underlying.index.get_loc(opt_xdt)\n",
    "        if at_open:\n",
    "            vix = (underlying.iloc[index_pos - 1]['vix O'] + underlying.iloc[index_pos - 1]['vix C']) / 200\n",
    "        else:\n",
    "            vix = (underlying.iloc[index_pos]['vix O'] + underlying.iloc[index_pos]['vix C']) / 200\n",
    "        underlying_price = underlying.loc[df.iloc[3]['TIMESTAMP']]['Open'] * at_open + underlying.loc[df.iloc[3]['TIMESTAMP']]['Close'] * (1 - at_open)\n",
    "        days_to_go = underlying.index.get_loc(opt_xdt) - underlying.index.get_loc(df.iloc[3]['TIMESTAMP'])\n",
    "        risk_free_rate = 0.1\n",
    "        return (qf.BlackScholesCall(underlying_price, vix, opt_stp, days_to_go/250, risk_free_rate).price * (opt_typ == 'CE') + \n",
    "                qf.BlackScholesPut(underlying_price, vix, opt_stp, days_to_go/250, risk_free_rate).price * (opt_typ == 'PE'))\n",
    "    else:\n",
    "        return (df[(df[smb] == ind) & \n",
    "                       (df[itm] == odi) & \n",
    "                       (df[xdt] == opt_xdt) &\n",
    "                       (df[stp] == opt_stp) & \n",
    "                       (df[otp] == opt_typ)].iloc[0]['CLOSE'] * (1 - at_open) + \n",
    "                    (df[(df[smb] == ind) & \n",
    "                        (df[itm] == odi) & \n",
    "                        (df[xdt] == opt_xdt) & \n",
    "                        (df[stp] == opt_stp) & \n",
    "                        (df[otp] == opt_typ)].iloc[0]['OPEN'] * at_open))"
   ]
  },
  {
   "cell_type": "code",
   "execution_count": 44,
   "metadata": {},
   "outputs": [
    {
     "name": "stdout",
     "output_type": "stream",
     "text": [
      "50.00365877151489\n"
     ]
    }
   ],
   "source": [
    "bo, so = True, False\n",
    "wing = 1.5\n",
    "theta, depth = 2, 4\n",
    "\n",
    "start_time = time.time()\n",
    "trades_across_xdt = []\n",
    "b_and_s = [(5, 4)]#b_s_days(theta, depth)\n",
    "for dates in  nse_xdt['Date']: #    [nse_xdt.iloc[2]['Date']]: # \n",
    "    pnl = []\n",
    "    for b_day, s_day in b_and_s:\n",
    "        b_date = day_to_trade(dates, b_day)\n",
    "        s_date = day_to_trade(dates, s_day)\n",
    "        stp_pe = get_winged_stp(b_date, 'PE', wings = wing, at_open = bo)\n",
    "        stp_ce = get_winged_stp(b_date, 'CE', wings = wing, at_open = bo)\n",
    "        b_c = -option(make_df_from_date(b_date), dates, stp_ce, 'CE', at_open = bo, enter = True)\n",
    "        b_p = -option(make_df_from_date(b_date), dates, stp_pe, 'PE', at_open = bo, enter = True)\n",
    "        s_c = -option(make_df_from_date(s_date), dates, stp_ce, 'CE', at_open = so, enter = False)\n",
    "        s_p = -option(make_df_from_date(s_date), dates, stp_pe, 'PE', at_open = so, enter = False)\n",
    "        pnl.append(s_c + s_p - b_c - b_p)\n",
    "    trades_across_xdt.append(pnl)    \n",
    "print(time.time() - start_time)"
   ]
  },
  {
   "cell_type": "code",
   "execution_count": 36,
   "metadata": {},
   "outputs": [],
   "source": [
    "pd.DataFrame(trades_across_xdt).to_csv('t2d4boTsoF1_5W.csv')"
   ]
  },
  {
   "cell_type": "code",
   "execution_count": 47,
   "metadata": {},
   "outputs": [
    {
     "data": {
      "text/html": [
       "<div>\n",
       "<style scoped>\n",
       "    .dataframe tbody tr th:only-of-type {\n",
       "        vertical-align: middle;\n",
       "    }\n",
       "\n",
       "    .dataframe tbody tr th {\n",
       "        vertical-align: top;\n",
       "    }\n",
       "\n",
       "    .dataframe thead th {\n",
       "        text-align: right;\n",
       "    }\n",
       "</style>\n",
       "<table border=\"1\" class=\"dataframe\">\n",
       "  <thead>\n",
       "    <tr style=\"text-align: right;\">\n",
       "      <th></th>\n",
       "      <th>0</th>\n",
       "    </tr>\n",
       "  </thead>\n",
       "  <tbody>\n",
       "    <tr>\n",
       "      <th>22</th>\n",
       "      <td>51.75</td>\n",
       "    </tr>\n",
       "    <tr>\n",
       "      <th>23</th>\n",
       "      <td>16.20</td>\n",
       "    </tr>\n",
       "    <tr>\n",
       "      <th>24</th>\n",
       "      <td>-50.35</td>\n",
       "    </tr>\n",
       "    <tr>\n",
       "      <th>25</th>\n",
       "      <td>79.95</td>\n",
       "    </tr>\n",
       "    <tr>\n",
       "      <th>26</th>\n",
       "      <td>39.35</td>\n",
       "    </tr>\n",
       "    <tr>\n",
       "      <th>27</th>\n",
       "      <td>47.05</td>\n",
       "    </tr>\n",
       "    <tr>\n",
       "      <th>28</th>\n",
       "      <td>28.05</td>\n",
       "    </tr>\n",
       "    <tr>\n",
       "      <th>29</th>\n",
       "      <td>46.00</td>\n",
       "    </tr>\n",
       "    <tr>\n",
       "      <th>30</th>\n",
       "      <td>21.25</td>\n",
       "    </tr>\n",
       "    <tr>\n",
       "      <th>31</th>\n",
       "      <td>-28.85</td>\n",
       "    </tr>\n",
       "    <tr>\n",
       "      <th>32</th>\n",
       "      <td>52.90</td>\n",
       "    </tr>\n",
       "    <tr>\n",
       "      <th>33</th>\n",
       "      <td>6.25</td>\n",
       "    </tr>\n",
       "    <tr>\n",
       "      <th>34</th>\n",
       "      <td>-4.95</td>\n",
       "    </tr>\n",
       "    <tr>\n",
       "      <th>35</th>\n",
       "      <td>2.15</td>\n",
       "    </tr>\n",
       "    <tr>\n",
       "      <th>36</th>\n",
       "      <td>-32.70</td>\n",
       "    </tr>\n",
       "    <tr>\n",
       "      <th>37</th>\n",
       "      <td>48.00</td>\n",
       "    </tr>\n",
       "    <tr>\n",
       "      <th>38</th>\n",
       "      <td>44.85</td>\n",
       "    </tr>\n",
       "    <tr>\n",
       "      <th>39</th>\n",
       "      <td>-15.40</td>\n",
       "    </tr>\n",
       "    <tr>\n",
       "      <th>40</th>\n",
       "      <td>-76.00</td>\n",
       "    </tr>\n",
       "    <tr>\n",
       "      <th>41</th>\n",
       "      <td>52.55</td>\n",
       "    </tr>\n",
       "    <tr>\n",
       "      <th>42</th>\n",
       "      <td>30.50</td>\n",
       "    </tr>\n",
       "    <tr>\n",
       "      <th>43</th>\n",
       "      <td>-92.65</td>\n",
       "    </tr>\n",
       "    <tr>\n",
       "      <th>44</th>\n",
       "      <td>95.70</td>\n",
       "    </tr>\n",
       "    <tr>\n",
       "      <th>45</th>\n",
       "      <td>14.80</td>\n",
       "    </tr>\n",
       "    <tr>\n",
       "      <th>46</th>\n",
       "      <td>101.30</td>\n",
       "    </tr>\n",
       "    <tr>\n",
       "      <th>47</th>\n",
       "      <td>106.05</td>\n",
       "    </tr>\n",
       "    <tr>\n",
       "      <th>48</th>\n",
       "      <td>49.85</td>\n",
       "    </tr>\n",
       "    <tr>\n",
       "      <th>49</th>\n",
       "      <td>25.90</td>\n",
       "    </tr>\n",
       "    <tr>\n",
       "      <th>50</th>\n",
       "      <td>36.90</td>\n",
       "    </tr>\n",
       "    <tr>\n",
       "      <th>51</th>\n",
       "      <td>16.75</td>\n",
       "    </tr>\n",
       "    <tr>\n",
       "      <th>52</th>\n",
       "      <td>42.75</td>\n",
       "    </tr>\n",
       "    <tr>\n",
       "      <th>53</th>\n",
       "      <td>39.35</td>\n",
       "    </tr>\n",
       "    <tr>\n",
       "      <th>54</th>\n",
       "      <td>38.55</td>\n",
       "    </tr>\n",
       "    <tr>\n",
       "      <th>55</th>\n",
       "      <td>46.45</td>\n",
       "    </tr>\n",
       "    <tr>\n",
       "      <th>56</th>\n",
       "      <td>45.05</td>\n",
       "    </tr>\n",
       "    <tr>\n",
       "      <th>57</th>\n",
       "      <td>30.60</td>\n",
       "    </tr>\n",
       "    <tr>\n",
       "      <th>58</th>\n",
       "      <td>10.95</td>\n",
       "    </tr>\n",
       "    <tr>\n",
       "      <th>59</th>\n",
       "      <td>2.90</td>\n",
       "    </tr>\n",
       "    <tr>\n",
       "      <th>60</th>\n",
       "      <td>14.25</td>\n",
       "    </tr>\n",
       "    <tr>\n",
       "      <th>61</th>\n",
       "      <td>20.70</td>\n",
       "    </tr>\n",
       "    <tr>\n",
       "      <th>62</th>\n",
       "      <td>50.45</td>\n",
       "    </tr>\n",
       "    <tr>\n",
       "      <th>63</th>\n",
       "      <td>15.15</td>\n",
       "    </tr>\n",
       "    <tr>\n",
       "      <th>64</th>\n",
       "      <td>23.20</td>\n",
       "    </tr>\n",
       "    <tr>\n",
       "      <th>65</th>\n",
       "      <td>13.35</td>\n",
       "    </tr>\n",
       "    <tr>\n",
       "      <th>66</th>\n",
       "      <td>43.35</td>\n",
       "    </tr>\n",
       "    <tr>\n",
       "      <th>67</th>\n",
       "      <td>-0.30</td>\n",
       "    </tr>\n",
       "    <tr>\n",
       "      <th>68</th>\n",
       "      <td>-58.70</td>\n",
       "    </tr>\n",
       "    <tr>\n",
       "      <th>69</th>\n",
       "      <td>33.15</td>\n",
       "    </tr>\n",
       "    <tr>\n",
       "      <th>70</th>\n",
       "      <td>31.40</td>\n",
       "    </tr>\n",
       "    <tr>\n",
       "      <th>71</th>\n",
       "      <td>-85.20</td>\n",
       "    </tr>\n",
       "  </tbody>\n",
       "</table>\n",
       "</div>"
      ],
      "text/plain": [
       "         0\n",
       "22   51.75\n",
       "23   16.20\n",
       "24  -50.35\n",
       "25   79.95\n",
       "26   39.35\n",
       "27   47.05\n",
       "28   28.05\n",
       "29   46.00\n",
       "30   21.25\n",
       "31  -28.85\n",
       "32   52.90\n",
       "33    6.25\n",
       "34   -4.95\n",
       "35    2.15\n",
       "36  -32.70\n",
       "37   48.00\n",
       "38   44.85\n",
       "39  -15.40\n",
       "40  -76.00\n",
       "41   52.55\n",
       "42   30.50\n",
       "43  -92.65\n",
       "44   95.70\n",
       "45   14.80\n",
       "46  101.30\n",
       "47  106.05\n",
       "48   49.85\n",
       "49   25.90\n",
       "50   36.90\n",
       "51   16.75\n",
       "52   42.75\n",
       "53   39.35\n",
       "54   38.55\n",
       "55   46.45\n",
       "56   45.05\n",
       "57   30.60\n",
       "58   10.95\n",
       "59    2.90\n",
       "60   14.25\n",
       "61   20.70\n",
       "62   50.45\n",
       "63   15.15\n",
       "64   23.20\n",
       "65   13.35\n",
       "66   43.35\n",
       "67   -0.30\n",
       "68  -58.70\n",
       "69   33.15\n",
       "70   31.40\n",
       "71  -85.20"
      ]
     },
     "execution_count": 47,
     "metadata": {},
     "output_type": "execute_result"
    }
   ],
   "source": [
    "pd.DataFrame(trades_across_xdt).tail(50)"
   ]
  },
  {
   "cell_type": "code",
   "execution_count": 10,
   "metadata": {},
   "outputs": [
    {
     "data": {
      "text/plain": [
       "9200"
      ]
     },
     "execution_count": 10,
     "metadata": {},
     "output_type": "execute_result"
    }
   ],
   "source": [
    "stp_ce"
   ]
  },
  {
   "cell_type": "code",
   "execution_count": 39,
   "metadata": {},
   "outputs": [
    {
     "data": {
      "text/plain": [
       "[(1, 0), (2, 1), (3, 2), (4, 3), (5, 4)]"
      ]
     },
     "execution_count": 39,
     "metadata": {},
     "output_type": "execute_result"
    }
   ],
   "source": [
    "b_s_days(theta, 5)"
   ]
  },
  {
   "cell_type": "code",
   "execution_count": 20,
   "metadata": {},
   "outputs": [
    {
     "data": {
      "text/plain": [
       "103.26146942095329"
      ]
     },
     "execution_count": 20,
     "metadata": {},
     "output_type": "execute_result"
    }
   ],
   "source": [
    "-option(make_df_from_date(b_date), dates, stp_pe, 'PE', at_open = bo, enter = True)\n",
    "# make_df_from_date(s_date)"
   ]
  },
  {
   "cell_type": "code",
   "execution_count": null,
   "metadata": {},
   "outputs": [],
   "source": [
    "pd.read_csv('E:\\\\NSE\\\\' + file_name_from_date(d) + '.csv', parse_dates=['EXPIRY_DT'])"
   ]
  },
  {
   "cell_type": "code",
   "execution_count": 30,
   "metadata": {},
   "outputs": [
    {
     "ename": "AttributeError",
     "evalue": "'NotebookFormatter' object has no attribute 'get_result'",
     "output_type": "error",
     "traceback": [
      "\u001b[1;31m---------------------------------------------------------------------------\u001b[0m",
      "\u001b[1;31mAttributeError\u001b[0m                            Traceback (most recent call last)",
      "\u001b[1;32m~\\anaconda3\\lib\\site-packages\\IPython\\core\\formatters.py\u001b[0m in \u001b[0;36m__call__\u001b[1;34m(self, obj)\u001b[0m\n\u001b[0;32m    343\u001b[0m             \u001b[0mmethod\u001b[0m \u001b[1;33m=\u001b[0m \u001b[0mget_real_method\u001b[0m\u001b[1;33m(\u001b[0m\u001b[0mobj\u001b[0m\u001b[1;33m,\u001b[0m \u001b[0mself\u001b[0m\u001b[1;33m.\u001b[0m\u001b[0mprint_method\u001b[0m\u001b[1;33m)\u001b[0m\u001b[1;33m\u001b[0m\u001b[1;33m\u001b[0m\u001b[0m\n\u001b[0;32m    344\u001b[0m             \u001b[1;32mif\u001b[0m \u001b[0mmethod\u001b[0m \u001b[1;32mis\u001b[0m \u001b[1;32mnot\u001b[0m \u001b[1;32mNone\u001b[0m\u001b[1;33m:\u001b[0m\u001b[1;33m\u001b[0m\u001b[1;33m\u001b[0m\u001b[0m\n\u001b[1;32m--> 345\u001b[1;33m                 \u001b[1;32mreturn\u001b[0m \u001b[0mmethod\u001b[0m\u001b[1;33m(\u001b[0m\u001b[1;33m)\u001b[0m\u001b[1;33m\u001b[0m\u001b[1;33m\u001b[0m\u001b[0m\n\u001b[0m\u001b[0;32m    346\u001b[0m             \u001b[1;32mreturn\u001b[0m \u001b[1;32mNone\u001b[0m\u001b[1;33m\u001b[0m\u001b[1;33m\u001b[0m\u001b[0m\n\u001b[0;32m    347\u001b[0m         \u001b[1;32melse\u001b[0m\u001b[1;33m:\u001b[0m\u001b[1;33m\u001b[0m\u001b[1;33m\u001b[0m\u001b[0m\n",
      "\u001b[1;32m~\\anaconda3\\lib\\site-packages\\pandas\\core\\frame.py\u001b[0m in \u001b[0;36m_repr_html_\u001b[1;34m(self)\u001b[0m\n\u001b[0;32m    796\u001b[0m \u001b[1;33m\u001b[0m\u001b[0m\n\u001b[0;32m    797\u001b[0m     \u001b[1;33m@\u001b[0m\u001b[0mproperty\u001b[0m\u001b[1;33m\u001b[0m\u001b[1;33m\u001b[0m\u001b[0m\n\u001b[1;32m--> 798\u001b[1;33m     \u001b[1;32mdef\u001b[0m \u001b[0mshape\u001b[0m\u001b[1;33m(\u001b[0m\u001b[0mself\u001b[0m\u001b[1;33m)\u001b[0m \u001b[1;33m->\u001b[0m \u001b[0mtuple\u001b[0m\u001b[1;33m[\u001b[0m\u001b[0mint\u001b[0m\u001b[1;33m,\u001b[0m \u001b[0mint\u001b[0m\u001b[1;33m]\u001b[0m\u001b[1;33m:\u001b[0m\u001b[1;33m\u001b[0m\u001b[1;33m\u001b[0m\u001b[0m\n\u001b[0m\u001b[0;32m    799\u001b[0m         \"\"\"\n\u001b[0;32m    800\u001b[0m         \u001b[0mReturn\u001b[0m \u001b[0ma\u001b[0m \u001b[0mtuple\u001b[0m \u001b[0mrepresenting\u001b[0m \u001b[0mthe\u001b[0m \u001b[0mdimensionality\u001b[0m \u001b[0mof\u001b[0m \u001b[0mthe\u001b[0m \u001b[0mDataFrame\u001b[0m\u001b[1;33m.\u001b[0m\u001b[1;33m\u001b[0m\u001b[1;33m\u001b[0m\u001b[0m\n",
      "\u001b[1;32m~\\anaconda3\\lib\\site-packages\\pandas\\io\\formats\\format.py\u001b[0m in \u001b[0;36mto_html\u001b[1;34m(self, buf, encoding, classes, notebook, border)\u001b[0m\n\u001b[0;32m    986\u001b[0m         \u001b[0mencoding\u001b[0m\u001b[1;33m:\u001b[0m \u001b[0mstr\u001b[0m \u001b[1;33m|\u001b[0m \u001b[1;32mNone\u001b[0m \u001b[1;33m=\u001b[0m \u001b[1;32mNone\u001b[0m\u001b[1;33m,\u001b[0m\u001b[1;33m\u001b[0m\u001b[1;33m\u001b[0m\u001b[0m\n\u001b[0;32m    987\u001b[0m         \u001b[0mclasses\u001b[0m\u001b[1;33m:\u001b[0m \u001b[0mstr\u001b[0m \u001b[1;33m|\u001b[0m \u001b[0mlist\u001b[0m \u001b[1;33m|\u001b[0m \u001b[0mtuple\u001b[0m \u001b[1;33m|\u001b[0m \u001b[1;32mNone\u001b[0m \u001b[1;33m=\u001b[0m \u001b[1;32mNone\u001b[0m\u001b[1;33m,\u001b[0m\u001b[1;33m\u001b[0m\u001b[1;33m\u001b[0m\u001b[0m\n\u001b[1;32m--> 988\u001b[1;33m         \u001b[0mnotebook\u001b[0m\u001b[1;33m:\u001b[0m \u001b[0mbool\u001b[0m \u001b[1;33m=\u001b[0m \u001b[1;32mFalse\u001b[0m\u001b[1;33m,\u001b[0m\u001b[1;33m\u001b[0m\u001b[1;33m\u001b[0m\u001b[0m\n\u001b[0m\u001b[0;32m    989\u001b[0m         \u001b[0mborder\u001b[0m\u001b[1;33m:\u001b[0m \u001b[0mint\u001b[0m \u001b[1;33m|\u001b[0m \u001b[1;32mNone\u001b[0m \u001b[1;33m=\u001b[0m \u001b[1;32mNone\u001b[0m\u001b[1;33m,\u001b[0m\u001b[1;33m\u001b[0m\u001b[1;33m\u001b[0m\u001b[0m\n\u001b[0;32m    990\u001b[0m         \u001b[0mtable_id\u001b[0m\u001b[1;33m:\u001b[0m \u001b[0mstr\u001b[0m \u001b[1;33m|\u001b[0m \u001b[1;32mNone\u001b[0m \u001b[1;33m=\u001b[0m \u001b[1;32mNone\u001b[0m\u001b[1;33m,\u001b[0m\u001b[1;33m\u001b[0m\u001b[1;33m\u001b[0m\u001b[0m\n",
      "\u001b[1;31mAttributeError\u001b[0m: 'NotebookFormatter' object has no attribute 'get_result'"
     ]
    },
    {
     "data": {
      "text/plain": [
       "      INSTRUMENT     SYMBOL  EXPIRY_DT  STRIKE_PR OPTION_TYP      OPEN  \\\n",
       "0         FUTIDX  BANKNIFTY 2020-05-28        0.0         XX  17923.30   \n",
       "1         FUTIDX  BANKNIFTY 2020-06-25        0.0         XX  17900.00   \n",
       "2         FUTIDX  BANKNIFTY 2020-07-30        0.0         XX  17920.85   \n",
       "3         FUTIDX      NIFTY 2020-05-28        0.0         XX   9068.90   \n",
       "4         FUTIDX      NIFTY 2020-06-25        0.0         XX   9070.00   \n",
       "...          ...        ...        ...        ...        ...       ...   \n",
       "36988     OPTSTK       ZEEL 2020-07-30      190.0         PE      0.00   \n",
       "36989     OPTSTK       ZEEL 2020-07-30      200.0         PE      0.00   \n",
       "36990     OPTSTK       ZEEL 2020-07-30      210.0         PE      0.00   \n",
       "36991     OPTSTK       ZEEL 2020-07-30      220.0         PE      0.00   \n",
       "36992     OPTSTK       ZEEL 2020-07-30      230.0         PE      0.00   \n",
       "\n",
       "           HIGH       LOW     CLOSE  SETTLE_PR  CONTRACTS  VAL_INLAKH  \\\n",
       "0      18175.00  17565.60  17644.85   17644.85     342672  1228384.80   \n",
       "1      18163.05  17581.05  17648.15   17648.15      15132    54170.60   \n",
       "2      18174.00  17620.05  17688.20   17688.20        507     2274.11   \n",
       "3       9169.70   9046.15   9075.10    9075.10     203480  1389883.12   \n",
       "4       9166.45   9040.30   9075.60    9075.60      15471   105698.32   \n",
       "...         ...       ...       ...        ...        ...         ...   \n",
       "36988      0.00      0.00     60.45      47.15          0        0.00   \n",
       "36989      0.00      0.00     67.65      54.85          0        0.00   \n",
       "36990      0.00      0.00     75.15      62.95          0        0.00   \n",
       "36991      0.00      0.00     82.80      71.35          0        0.00   \n",
       "36992      0.00      0.00     90.70      80.00          0        0.00   \n",
       "\n",
       "       OPEN_INT  CHG_IN_OI    TIMESTAMP  Unnamed: 15  \n",
       "0       1378440     109080  21-MAY-2020          NaN  \n",
       "1        176040      37820  21-MAY-2020          NaN  \n",
       "2         19725       3275  21-MAY-2020          NaN  \n",
       "3       7511325    -252825  21-MAY-2020          NaN  \n",
       "4       1996125     150525  21-MAY-2020          NaN  \n",
       "...         ...        ...          ...          ...  \n",
       "36988         0          0  21-MAY-2020          NaN  \n",
       "36989         0          0  21-MAY-2020          NaN  \n",
       "36990         0          0  21-MAY-2020          NaN  \n",
       "36991         0          0  21-MAY-2020          NaN  \n",
       "36992         0          0  21-MAY-2020          NaN  \n",
       "\n",
       "[36993 rows x 16 columns]"
      ]
     },
     "execution_count": 30,
     "metadata": {},
     "output_type": "execute_result"
    }
   ],
   "source": [
    "pd.read_csv('E:\\\\NSE\\\\' + file_name_from_date(b_date) + '.csv', parse_dates=['EXPIRY_DT'])"
   ]
  },
  {
   "cell_type": "code",
   "execution_count": null,
   "metadata": {},
   "outputs": [],
   "source": []
  },
  {
   "cell_type": "code",
   "execution_count": null,
   "metadata": {},
   "outputs": [],
   "source": []
  },
  {
   "cell_type": "code",
   "execution_count": null,
   "metadata": {},
   "outputs": [],
   "source": []
  },
  {
   "cell_type": "code",
   "execution_count": 10,
   "metadata": {
    "scrolled": true
   },
   "outputs": [
    {
     "data": {
      "text/plain": [
       "Timestamp('2020-06-04 00:00:00')"
      ]
     },
     "execution_count": 10,
     "metadata": {},
     "output_type": "execute_result"
    }
   ],
   "source": []
  },
  {
   "cell_type": "code",
   "execution_count": 481,
   "metadata": {},
   "outputs": [
    {
     "name": "stdout",
     "output_type": "stream",
     "text": [
      "590.6264553070068\n"
     ]
    }
   ],
   "source": [
    "# buy = temp, sell tomorrow evening\n",
    "# \n",
    "# temp = 9\n",
    "b, s = [3], [2]#range(10), range(10) # [15], [10]#\n",
    "bo, so = True, False\n",
    "#day_corrector = not so\n",
    "ONE = True\n",
    "# pp = 9850\n",
    "# cp = 10250\n",
    "start_time = time.time()\n",
    "trades_across_xdt = []\n",
    "#for b in range(1, 10)\n",
    "for dates in  nse_xdt['Date']: #    [nse_xdt.iloc[2]['Date']]: # \n",
    "    trades_for_xdt = []\n",
    "    for b_day in b:\n",
    "        b_date = day_to_trade(dates, b_day)\n",
    "        b_c = -option(make_df_from_date(b_date), dates, get_stp(b_date, 'CE', one = ONE), 'CE', at_open = bo)\n",
    "        b_p = -option(make_df_from_date(b_date), dates, get_stp(b_date, 'PE', one = ONE), 'PE', at_open = bo)\n",
    "        pnl = []\n",
    "#         b_c = -option(make_df_from_date(b_date), dates, cp, 'CE', at_open = bo)\n",
    "#         b_p = -option(make_df_from_date(b_date), dates, pp, 'PE', at_open = bo)\n",
    "        for s_day in s:\n",
    "#        s_day = b_day - 1\n",
    "            s_date = day_to_trade(dates, s_day)\n",
    "            s_c = -option(make_df_from_date(s_date), dates, get_stp(b_date, 'CE', one = ONE), 'CE', at_open = so, enter = False)\n",
    "            s_p = -option(make_df_from_date(s_date), dates, get_stp(b_date, 'PE', one = ONE), 'PE', at_open = so, enter = False)\n",
    "    #         s_c = -option(make_df_from_date(s_date), dates, cp, 'CE', at_open = so)\n",
    "    #         s_p = -option(make_df_from_date(s_date), dates, pp, 'PE', at_open = so)\n",
    "            pnl.append((s_c + s_p - b_c - b_p)/(b_day - s_day + 1))\n",
    "        trades_for_xdt.append(pnl)\n",
    "    trades_across_xdt.append(trades_for_xdt)\n",
    "print(time.time() - start_time)"
   ]
  },
  {
   "cell_type": "code",
   "execution_count": null,
   "metadata": {},
   "outputs": [],
   "source": []
  },
  {
   "cell_type": "code",
   "execution_count": 493,
   "metadata": {
    "scrolled": true
   },
   "outputs": [
    {
     "name": "stdout",
     "output_type": "stream",
     "text": [
      "-81.05000000000001\n",
      "288.4748314033344\n",
      "68.56574765833705\n",
      "78.70860111977825\n",
      "4.299999999999983\n",
      "-125.11397594016779\n",
      "71.00000000000003\n",
      "35.05000000000001\n",
      "100.70344389795247\n",
      "26.25\n",
      "21.299999999999997\n",
      "23.573639811450334\n",
      "69.35000000000001\n",
      "-11.349999999999994\n",
      "38.238334474425585\n",
      "143.7\n",
      "17.121035588110146\n",
      "20.0\n",
      "32.900000000000006\n",
      "-155.00000000000006\n",
      "33.09999999999998\n",
      "-15.40000000000002\n",
      "-51.25\n",
      "-2.6999999999999886\n",
      "10.899999999999977\n",
      "51.05\n",
      "95.75\n",
      "17.950000000000003\n",
      "30.349999999999994\n",
      "58.5\n",
      "31.85000000000001\n",
      "26.30000000000001\n",
      "-34.500000000000014\n",
      "55.69999999999999\n",
      "28.400000000000006\n",
      "42.69999999999999\n",
      "41.150000000000034\n",
      "50.849999999999994\n",
      "11.25\n",
      "62.75\n",
      "-6.350000000000023\n",
      "-57.599999999999994\n",
      "39.80000000000004\n",
      "-43.85000000000002\n",
      "28.75000000000003\n",
      "137.55\n",
      "121.29511773065099\n",
      "57.14999999999998\n",
      "34.89999999999998\n",
      "29.0\n",
      "29.44999999999999\n",
      "55.200000000000045\n",
      "5.0\n",
      "49.94999999999999\n",
      "108.40358819276972\n",
      "31.200000000000003\n",
      "54.599999999999994\n",
      "58.8\n",
      "46.349999999999994\n",
      "-16.05000000000001\n",
      "3.249999999999986\n",
      "47.7\n",
      "58.650000000000006\n",
      "13.499999999999986\n",
      "-30.400000000000006\n",
      "30.25\n",
      "46.85000000000002\n",
      "51.84999999999998\n",
      "-26.150000000000006\n",
      "-36.15000000000002\n"
     ]
    }
   ],
   "source": [
    "for i in range(70):\n",
    "    print(trades_across_xdt[i][9][0])\n",
    "# b_date\n",
    "# print(trades_across_xdt[1][0][0])"
   ]
  },
  {
   "cell_type": "code",
   "execution_count": 89,
   "metadata": {
    "scrolled": true
   },
   "outputs": [
    {
     "data": {
      "text/plain": [
       "Open                 9.544950e+03\n",
       "High                 9.996050e+03\n",
       "Low                  9.544350e+03\n",
       "Close                9.972900e+03\n",
       "1sd CE               1.020000e+04\n",
       "1sd PE               9.800000e+03\n",
       "1.5sd CE             1.030000e+04\n",
       "1.5sd PE             9.700000e+03\n",
       "Shares Traded        7.963064e+08\n",
       "Turnover (Rs. Cr)    3.650577e+04\n",
       "Name: 2020-06-12 00:00:00, dtype: float64"
      ]
     },
     "execution_count": 89,
     "metadata": {},
     "output_type": "execute_result"
    }
   ],
   "source": [
    "underlying.loc[b_date]"
   ]
  },
  {
   "cell_type": "code",
   "execution_count": 117,
   "metadata": {},
   "outputs": [
    {
     "ename": "KeyError",
     "evalue": "9300.0",
     "output_type": "error",
     "traceback": [
      "\u001b[1;31m---------------------------------------------------------------------------\u001b[0m",
      "\u001b[1;31mKeyError\u001b[0m                                  Traceback (most recent call last)",
      "\u001b[1;32m~\\anaconda3\\lib\\site-packages\\pandas\\core\\indexes\\base.py\u001b[0m in \u001b[0;36mget_loc\u001b[1;34m(self, key, method, tolerance)\u001b[0m\n\u001b[0;32m   2894\u001b[0m             \u001b[1;32mtry\u001b[0m\u001b[1;33m:\u001b[0m\u001b[1;33m\u001b[0m\u001b[1;33m\u001b[0m\u001b[0m\n\u001b[1;32m-> 2895\u001b[1;33m                 \u001b[1;32mreturn\u001b[0m \u001b[0mself\u001b[0m\u001b[1;33m.\u001b[0m\u001b[0m_engine\u001b[0m\u001b[1;33m.\u001b[0m\u001b[0mget_loc\u001b[0m\u001b[1;33m(\u001b[0m\u001b[0mcasted_key\u001b[0m\u001b[1;33m)\u001b[0m\u001b[1;33m\u001b[0m\u001b[1;33m\u001b[0m\u001b[0m\n\u001b[0m\u001b[0;32m   2896\u001b[0m             \u001b[1;32mexcept\u001b[0m \u001b[0mKeyError\u001b[0m \u001b[1;32mas\u001b[0m \u001b[0merr\u001b[0m\u001b[1;33m:\u001b[0m\u001b[1;33m\u001b[0m\u001b[1;33m\u001b[0m\u001b[0m\n",
      "\u001b[1;32mpandas\\_libs\\index.pyx\u001b[0m in \u001b[0;36mpandas._libs.index.IndexEngine.get_loc\u001b[1;34m()\u001b[0m\n",
      "\u001b[1;32mpandas\\_libs\\index.pyx\u001b[0m in \u001b[0;36mpandas._libs.index.IndexEngine.get_loc\u001b[1;34m()\u001b[0m\n",
      "\u001b[1;32mpandas\\_libs\\hashtable_class_helper.pxi\u001b[0m in \u001b[0;36mpandas._libs.hashtable.PyObjectHashTable.get_item\u001b[1;34m()\u001b[0m\n",
      "\u001b[1;32mpandas\\_libs\\hashtable_class_helper.pxi\u001b[0m in \u001b[0;36mpandas._libs.hashtable.PyObjectHashTable.get_item\u001b[1;34m()\u001b[0m\n",
      "\u001b[1;31mKeyError\u001b[0m: 9300",
      "\nThe above exception was the direct cause of the following exception:\n",
      "\u001b[1;31mKeyError\u001b[0m                                  Traceback (most recent call last)",
      "\u001b[1;32m<ipython-input-117-99cb461b953f>\u001b[0m in \u001b[0;36m<module>\u001b[1;34m\u001b[0m\n\u001b[0;32m      1\u001b[0m \u001b[1;31m# def option(df, opt_xdt, opt_stp, opt_typ, at_open = False):\u001b[0m\u001b[1;33m\u001b[0m\u001b[1;33m\u001b[0m\u001b[1;33m\u001b[0m\u001b[0m\n\u001b[0;32m      2\u001b[0m \u001b[1;31m# option(make_df_from_date(b_date), dates, 8500, 'CE')\u001b[0m\u001b[1;33m\u001b[0m\u001b[1;33m\u001b[0m\u001b[1;33m\u001b[0m\u001b[0m\n\u001b[1;32m----> 3\u001b[1;33m \u001b[0moption\u001b[0m\u001b[1;33m(\u001b[0m\u001b[0mmake_df_from_date\u001b[0m\u001b[1;33m(\u001b[0m\u001b[0mb_date\u001b[0m\u001b[1;33m)\u001b[0m\u001b[1;33m,\u001b[0m \u001b[0mdates\u001b[0m\u001b[1;33m,\u001b[0m \u001b[0mget_stp\u001b[0m\u001b[1;33m(\u001b[0m\u001b[0mb_date\u001b[0m\u001b[1;33m,\u001b[0m \u001b[1;34m'PE'\u001b[0m\u001b[1;33m,\u001b[0m \u001b[0mone\u001b[0m \u001b[1;33m=\u001b[0m \u001b[0mONE\u001b[0m\u001b[1;33m)\u001b[0m\u001b[1;33m,\u001b[0m \u001b[1;34m'PE'\u001b[0m\u001b[1;33m,\u001b[0m \u001b[0mat_open\u001b[0m \u001b[1;33m=\u001b[0m \u001b[0mbo\u001b[0m\u001b[1;33m)\u001b[0m\u001b[1;33m\u001b[0m\u001b[1;33m\u001b[0m\u001b[0m\n\u001b[0m",
      "\u001b[1;32m<ipython-input-5-29cf732816a8>\u001b[0m in \u001b[0;36moption\u001b[1;34m(df, opt_xdt, opt_stp, opt_typ, at_open)\u001b[0m\n\u001b[0;32m      3\u001b[0m                \u001b[1;33m(\u001b[0m\u001b[0mdf\u001b[0m\u001b[1;33m[\u001b[0m\u001b[0mitm\u001b[0m\u001b[1;33m]\u001b[0m \u001b[1;33m==\u001b[0m \u001b[0modi\u001b[0m\u001b[1;33m)\u001b[0m \u001b[1;33m&\u001b[0m\u001b[1;33m\u001b[0m\u001b[1;33m\u001b[0m\u001b[0m\n\u001b[0;32m      4\u001b[0m                \u001b[1;33m(\u001b[0m\u001b[0mdf\u001b[0m\u001b[1;33m[\u001b[0m\u001b[0mxdt\u001b[0m\u001b[1;33m]\u001b[0m \u001b[1;33m==\u001b[0m \u001b[0mopt_xdt\u001b[0m\u001b[1;33m)\u001b[0m \u001b[1;33m&\u001b[0m\u001b[1;33m\u001b[0m\u001b[1;33m\u001b[0m\u001b[0m\n\u001b[1;32m----> 5\u001b[1;33m                \u001b[1;33m(\u001b[0m\u001b[0mdf\u001b[0m\u001b[1;33m[\u001b[0m\u001b[0mstp\u001b[0m\u001b[1;33m]\u001b[0m \u001b[1;33m==\u001b[0m \u001b[0mopt_stp\u001b[0m\u001b[1;33m)\u001b[0m \u001b[1;33m&\u001b[0m\u001b[1;33m\u001b[0m\u001b[1;33m\u001b[0m\u001b[0m\n\u001b[0m\u001b[0;32m      6\u001b[0m                (df[otp] == opt_typ)].iloc[0]['CLOSE'] * (1 - at_open) + \n\u001b[0;32m      7\u001b[0m \u001b[1;33m\u001b[0m\u001b[0m\n",
      "\u001b[1;32m~\\anaconda3\\lib\\site-packages\\pandas\\core\\frame.py\u001b[0m in \u001b[0;36m__getitem__\u001b[1;34m(self, key)\u001b[0m\n\u001b[0;32m   2900\u001b[0m             \u001b[1;32mif\u001b[0m \u001b[0mself\u001b[0m\u001b[1;33m.\u001b[0m\u001b[0mcolumns\u001b[0m\u001b[1;33m.\u001b[0m\u001b[0mnlevels\u001b[0m \u001b[1;33m>\u001b[0m \u001b[1;36m1\u001b[0m\u001b[1;33m:\u001b[0m\u001b[1;33m\u001b[0m\u001b[1;33m\u001b[0m\u001b[0m\n\u001b[0;32m   2901\u001b[0m                 \u001b[1;32mreturn\u001b[0m \u001b[0mself\u001b[0m\u001b[1;33m.\u001b[0m\u001b[0m_getitem_multilevel\u001b[0m\u001b[1;33m(\u001b[0m\u001b[0mkey\u001b[0m\u001b[1;33m)\u001b[0m\u001b[1;33m\u001b[0m\u001b[1;33m\u001b[0m\u001b[0m\n\u001b[1;32m-> 2902\u001b[1;33m             \u001b[0mindexer\u001b[0m \u001b[1;33m=\u001b[0m \u001b[0mself\u001b[0m\u001b[1;33m.\u001b[0m\u001b[0mcolumns\u001b[0m\u001b[1;33m.\u001b[0m\u001b[0mget_loc\u001b[0m\u001b[1;33m(\u001b[0m\u001b[0mkey\u001b[0m\u001b[1;33m)\u001b[0m\u001b[1;33m\u001b[0m\u001b[1;33m\u001b[0m\u001b[0m\n\u001b[0m\u001b[0;32m   2903\u001b[0m             \u001b[1;32mif\u001b[0m \u001b[0mis_integer\u001b[0m\u001b[1;33m(\u001b[0m\u001b[0mindexer\u001b[0m\u001b[1;33m)\u001b[0m\u001b[1;33m:\u001b[0m\u001b[1;33m\u001b[0m\u001b[1;33m\u001b[0m\u001b[0m\n\u001b[0;32m   2904\u001b[0m                 \u001b[0mindexer\u001b[0m \u001b[1;33m=\u001b[0m \u001b[1;33m[\u001b[0m\u001b[0mindexer\u001b[0m\u001b[1;33m]\u001b[0m\u001b[1;33m\u001b[0m\u001b[1;33m\u001b[0m\u001b[0m\n",
      "\u001b[1;32m~\\anaconda3\\lib\\site-packages\\pandas\\core\\indexes\\base.py\u001b[0m in \u001b[0;36mget_loc\u001b[1;34m(self, key, method, tolerance)\u001b[0m\n\u001b[0;32m   2895\u001b[0m                 \u001b[1;32mreturn\u001b[0m \u001b[0mself\u001b[0m\u001b[1;33m.\u001b[0m\u001b[0m_engine\u001b[0m\u001b[1;33m.\u001b[0m\u001b[0mget_loc\u001b[0m\u001b[1;33m(\u001b[0m\u001b[0mcasted_key\u001b[0m\u001b[1;33m)\u001b[0m\u001b[1;33m\u001b[0m\u001b[1;33m\u001b[0m\u001b[0m\n\u001b[0;32m   2896\u001b[0m             \u001b[1;32mexcept\u001b[0m \u001b[0mKeyError\u001b[0m \u001b[1;32mas\u001b[0m \u001b[0merr\u001b[0m\u001b[1;33m:\u001b[0m\u001b[1;33m\u001b[0m\u001b[1;33m\u001b[0m\u001b[0m\n\u001b[1;32m-> 2897\u001b[1;33m                 \u001b[1;32mraise\u001b[0m \u001b[0mKeyError\u001b[0m\u001b[1;33m(\u001b[0m\u001b[0mkey\u001b[0m\u001b[1;33m)\u001b[0m \u001b[1;32mfrom\u001b[0m \u001b[0merr\u001b[0m\u001b[1;33m\u001b[0m\u001b[1;33m\u001b[0m\u001b[0m\n\u001b[0m\u001b[0;32m   2898\u001b[0m \u001b[1;33m\u001b[0m\u001b[0m\n\u001b[0;32m   2899\u001b[0m         \u001b[1;32mif\u001b[0m \u001b[0mtolerance\u001b[0m \u001b[1;32mis\u001b[0m \u001b[1;32mnot\u001b[0m \u001b[1;32mNone\u001b[0m\u001b[1;33m:\u001b[0m\u001b[1;33m\u001b[0m\u001b[1;33m\u001b[0m\u001b[0m\n",
      "\u001b[1;31mKeyError\u001b[0m: 9300.0"
     ]
    }
   ],
   "source": [
    "# def option(df, opt_xdt, opt_stp, opt_typ, at_open = False):\n",
    "# option(make_df_from_date(b_date), dates, 8500, 'CE')\n",
    "option(make_df_from_date(b_date), dates, get_stp(b_date, 'PE', one = ONE), 'PE', at_open = bo)"
   ]
  },
  {
   "cell_type": "code",
   "execution_count": 145,
   "metadata": {},
   "outputs": [
    {
     "data": {
      "text/html": [
       "<div>\n",
       "<style scoped>\n",
       "    .dataframe tbody tr th:only-of-type {\n",
       "        vertical-align: middle;\n",
       "    }\n",
       "\n",
       "    .dataframe tbody tr th {\n",
       "        vertical-align: top;\n",
       "    }\n",
       "\n",
       "    .dataframe thead th {\n",
       "        text-align: right;\n",
       "    }\n",
       "</style>\n",
       "<table border=\"1\" class=\"dataframe\">\n",
       "  <thead>\n",
       "    <tr style=\"text-align: right;\">\n",
       "      <th></th>\n",
       "      <th>INSTRUMENT</th>\n",
       "      <th>SYMBOL</th>\n",
       "      <th>EXPIRY_DT</th>\n",
       "      <th>STRIKE_PR</th>\n",
       "      <th>OPTION_TYP</th>\n",
       "      <th>OPEN</th>\n",
       "      <th>HIGH</th>\n",
       "      <th>LOW</th>\n",
       "      <th>CLOSE</th>\n",
       "      <th>SETTLE_PR</th>\n",
       "      <th>CONTRACTS</th>\n",
       "      <th>VAL_INLAKH</th>\n",
       "      <th>OPEN_INT</th>\n",
       "      <th>CHG_IN_OI</th>\n",
       "      <th>TIMESTAMP</th>\n",
       "      <th>Unnamed: 15</th>\n",
       "    </tr>\n",
       "  </thead>\n",
       "  <tbody>\n",
       "    <tr>\n",
       "      <th>2809</th>\n",
       "      <td>OPTIDX</td>\n",
       "      <td>NIFTY</td>\n",
       "      <td>2020-07-02</td>\n",
       "      <td>9700.0</td>\n",
       "      <td>CE</td>\n",
       "      <td>326.40</td>\n",
       "      <td>429.75</td>\n",
       "      <td>294.75</td>\n",
       "      <td>429.75</td>\n",
       "      <td>456.40</td>\n",
       "      <td>19</td>\n",
       "      <td>142.85</td>\n",
       "      <td>225</td>\n",
       "      <td>225</td>\n",
       "      <td>12-JUN-2020</td>\n",
       "      <td>NaN</td>\n",
       "    </tr>\n",
       "    <tr>\n",
       "      <th>2897</th>\n",
       "      <td>OPTIDX</td>\n",
       "      <td>NIFTY</td>\n",
       "      <td>2020-07-02</td>\n",
       "      <td>9700.0</td>\n",
       "      <td>PE</td>\n",
       "      <td>265.05</td>\n",
       "      <td>265.05</td>\n",
       "      <td>210.00</td>\n",
       "      <td>210.00</td>\n",
       "      <td>160.95</td>\n",
       "      <td>4</td>\n",
       "      <td>29.83</td>\n",
       "      <td>225</td>\n",
       "      <td>225</td>\n",
       "      <td>12-JUN-2020</td>\n",
       "      <td>NaN</td>\n",
       "    </tr>\n",
       "  </tbody>\n",
       "</table>\n",
       "</div>"
      ],
      "text/plain": [
       "     INSTRUMENT SYMBOL  EXPIRY_DT  STRIKE_PR OPTION_TYP    OPEN    HIGH  \\\n",
       "2809     OPTIDX  NIFTY 2020-07-02     9700.0         CE  326.40  429.75   \n",
       "2897     OPTIDX  NIFTY 2020-07-02     9700.0         PE  265.05  265.05   \n",
       "\n",
       "         LOW   CLOSE  SETTLE_PR  CONTRACTS  VAL_INLAKH  OPEN_INT  CHG_IN_OI  \\\n",
       "2809  294.75  429.75     456.40         19      142.85       225        225   \n",
       "2897  210.00  210.00     160.95          4       29.83       225        225   \n",
       "\n",
       "        TIMESTAMP  Unnamed: 15  \n",
       "2809  12-JUN-2020          NaN  \n",
       "2897  12-JUN-2020          NaN  "
      ]
     },
     "execution_count": 145,
     "metadata": {},
     "output_type": "execute_result"
    }
   ],
   "source": [
    "# make_df_from_date(b_date)[(make_df_from_date(b_date)['SYMBOL'] == 'NIFTY') & \n",
    "#                           (make_df_from_date(b_date)['EXPIRY_DT'] == dates) & \n",
    "#                           (make_df_from_date(b_date)['STRIKE_PR'] == 9300)]\n",
    "\n",
    "option_test(make_df_from_date(b_date), dates, get_stp(b_date, 'PE', one = ONE))"
   ]
  },
  {
   "cell_type": "code",
   "execution_count": 144,
   "metadata": {},
   "outputs": [],
   "source": [
    "def option_test(df, opt_xdt, opt_stp): #, opt_stp, opt_typ, at_open = False):\n",
    "    return df[(df[smb] == ind) & \n",
    "               (df[itm] == odi) & \n",
    "               (df[xdt] == opt_xdt) &\n",
    "               (df[stp] == opt_stp)]# & \n",
    "#                (df[otp] == opt_typ)].iloc[0]['CLOSE'] * (1 - at_open) + \n",
    "            \n",
    "#             df[(df[smb] == ind) & \n",
    "#                (df[itm] == odi) & \n",
    "#                (df[xdt] == opt_xdt) & \n",
    "#                (df[stp] == opt_stp) & \n",
    "#                (df[otp] == opt_typ)].iloc[0]['OPEN'] * at_open)"
   ]
  },
  {
   "cell_type": "code",
   "execution_count": 279,
   "metadata": {},
   "outputs": [
    {
     "data": {
      "text/plain": [
       "0.0"
      ]
     },
     "execution_count": 279,
     "metadata": {},
     "output_type": "execute_result"
    }
   ],
   "source": [
    "option(make_df_from_date(b_date), dates, get_stp(b_date, 'CE', one = ONE), 'CE', at_open = bo)"
   ]
  },
  {
   "cell_type": "code",
   "execution_count": 267,
   "metadata": {},
   "outputs": [
    {
     "ename": "NameError",
     "evalue": "name 'opt_xdt' is not defined",
     "output_type": "error",
     "traceback": [
      "\u001b[1;31m---------------------------------------------------------------------------\u001b[0m",
      "\u001b[1;31mNameError\u001b[0m                                 Traceback (most recent call last)",
      "\u001b[1;32m<ipython-input-267-fd20494b3316>\u001b[0m in \u001b[0;36m<module>\u001b[1;34m\u001b[0m\n\u001b[0;32m      1\u001b[0m \u001b[0munderlying_price\u001b[0m \u001b[1;33m=\u001b[0m \u001b[0munderlying\u001b[0m\u001b[1;33m.\u001b[0m\u001b[0mloc\u001b[0m\u001b[1;33m[\u001b[0m\u001b[0mdf\u001b[0m\u001b[1;33m.\u001b[0m\u001b[0miloc\u001b[0m\u001b[1;33m[\u001b[0m\u001b[1;36m3\u001b[0m\u001b[1;33m]\u001b[0m\u001b[1;33m[\u001b[0m\u001b[1;34m'TIMESTAMP'\u001b[0m\u001b[1;33m]\u001b[0m\u001b[1;33m]\u001b[0m\u001b[1;33m[\u001b[0m\u001b[1;34m'Open'\u001b[0m\u001b[1;33m]\u001b[0m\u001b[1;33m\u001b[0m\u001b[1;33m\u001b[0m\u001b[0m\n\u001b[0;32m      2\u001b[0m \u001b[0mvix\u001b[0m \u001b[1;33m=\u001b[0m \u001b[0munderlying\u001b[0m\u001b[1;33m.\u001b[0m\u001b[0mloc\u001b[0m\u001b[1;33m[\u001b[0m\u001b[0mdf\u001b[0m\u001b[1;33m.\u001b[0m\u001b[0miloc\u001b[0m\u001b[1;33m[\u001b[0m\u001b[1;36m3\u001b[0m\u001b[1;33m]\u001b[0m\u001b[1;33m[\u001b[0m\u001b[1;34m'TIMESTAMP'\u001b[0m\u001b[1;33m]\u001b[0m\u001b[1;33m]\u001b[0m\u001b[1;33m[\u001b[0m\u001b[1;34m'vix'\u001b[0m\u001b[1;33m]\u001b[0m\u001b[1;33m\u001b[0m\u001b[1;33m\u001b[0m\u001b[0m\n\u001b[1;32m----> 3\u001b[1;33m \u001b[0mdays_to_go\u001b[0m \u001b[1;33m=\u001b[0m \u001b[0munderlying\u001b[0m\u001b[1;33m.\u001b[0m\u001b[0mindex\u001b[0m\u001b[1;33m.\u001b[0m\u001b[0mget_loc\u001b[0m\u001b[1;33m(\u001b[0m\u001b[0mopt_xdt\u001b[0m\u001b[1;33m)\u001b[0m \u001b[1;33m-\u001b[0m \u001b[0munderlying\u001b[0m\u001b[1;33m.\u001b[0m\u001b[0mindex\u001b[0m\u001b[1;33m.\u001b[0m\u001b[0mget_loc\u001b[0m\u001b[1;33m(\u001b[0m\u001b[0mdf\u001b[0m\u001b[1;33m.\u001b[0m\u001b[0miloc\u001b[0m\u001b[1;33m[\u001b[0m\u001b[1;36m3\u001b[0m\u001b[1;33m]\u001b[0m\u001b[1;33m[\u001b[0m\u001b[1;34m'TIMESTAMP'\u001b[0m\u001b[1;33m]\u001b[0m\u001b[1;33m)\u001b[0m\u001b[1;33m\u001b[0m\u001b[1;33m\u001b[0m\u001b[0m\n\u001b[0m\u001b[0;32m      4\u001b[0m \u001b[0mrisk_free_rate\u001b[0m \u001b[1;33m=\u001b[0m \u001b[1;36m0.1\u001b[0m\u001b[1;33m\u001b[0m\u001b[1;33m\u001b[0m\u001b[0m\n\u001b[0;32m      5\u001b[0m (qf.BlackScholesCall(underlying_price, vix, opt_stp, days_to_go/250, risk_free_rate) * (opt_typ == 'CE') + \n",
      "\u001b[1;31mNameError\u001b[0m: name 'opt_xdt' is not defined"
     ]
    }
   ],
   "source": [
    "underlying_price = underlying.loc[df.iloc[3]['TIMESTAMP']]['Open']\n",
    "vix = underlying.loc[df.iloc[3]['TIMESTAMP']]['vix']\n",
    "days_to_go = underlying.index.get_loc(opt_xdt) - underlying.index.get_loc(df.iloc[3]['TIMESTAMP'])\n",
    "risk_free_rate = 0.1\n",
    "(qf.BlackScholesCall(underlying_price, vix, opt_stp, days_to_go/250, risk_free_rate) * (opt_typ == 'CE') + \n",
    "        qf.BlackScholesPut(underlying_price, vix, opt_stp, days_to_go/250, risk_free_rate) * (opt_typ == 'PE'))"
   ]
  },
  {
   "cell_type": "code",
   "execution_count": 275,
   "metadata": {},
   "outputs": [
    {
     "ename": "TypeError",
     "evalue": "unsupported operand type(s) for *: 'BlackScholesCall' and 'bool'",
     "output_type": "error",
     "traceback": [
      "\u001b[1;31m---------------------------------------------------------------------------\u001b[0m",
      "\u001b[1;31mTypeError\u001b[0m                                 Traceback (most recent call last)",
      "\u001b[1;32m<ipython-input-275-52f60f22aff0>\u001b[0m in \u001b[0;36m<module>\u001b[1;34m\u001b[0m\n\u001b[1;32m----> 1\u001b[1;33m \u001b[0mqf\u001b[0m\u001b[1;33m.\u001b[0m\u001b[0mBlackScholesCall\u001b[0m\u001b[1;33m(\u001b[0m\u001b[0munderlying_price\u001b[0m\u001b[1;33m,\u001b[0m \u001b[0mvix\u001b[0m\u001b[1;33m,\u001b[0m \u001b[1;36m10200\u001b[0m\u001b[1;33m,\u001b[0m \u001b[0mdays_to_go\u001b[0m\u001b[1;33m/\u001b[0m\u001b[1;36m250\u001b[0m\u001b[1;33m,\u001b[0m \u001b[0mrisk_free_rate\u001b[0m\u001b[1;33m)\u001b[0m\u001b[1;33m*\u001b[0m\u001b[1;33m(\u001b[0m\u001b[1;34m'a'\u001b[0m\u001b[1;33m==\u001b[0m\u001b[1;34m'a'\u001b[0m\u001b[1;33m)\u001b[0m\u001b[1;33m\u001b[0m\u001b[1;33m\u001b[0m\u001b[0m\n\u001b[0m",
      "\u001b[1;31mTypeError\u001b[0m: unsupported operand type(s) for *: 'BlackScholesCall' and 'bool'"
     ]
    }
   ],
   "source": [
    "qf.BlackScholesCall(underlying_price, vix, 10200, days_to_go/250, risk_free_rate)*('a'=='a')"
   ]
  },
  {
   "cell_type": "code",
   "execution_count": 272,
   "metadata": {},
   "outputs": [
    {
     "data": {
      "text/plain": [
       "Timestamp('2020-06-18 00:00:00')"
      ]
     },
     "execution_count": 272,
     "metadata": {},
     "output_type": "execute_result"
    }
   ],
   "source": []
  },
  {
   "cell_type": "code",
   "execution_count": null,
   "metadata": {},
   "outputs": [],
   "source": []
  }
 ],
 "metadata": {
  "kernelspec": {
   "display_name": "Python 3",
   "language": "python",
   "name": "python3"
  },
  "language_info": {
   "codemirror_mode": {
    "name": "ipython",
    "version": 3
   },
   "file_extension": ".py",
   "mimetype": "text/x-python",
   "name": "python",
   "nbconvert_exporter": "python",
   "pygments_lexer": "ipython3",
   "version": "3.8.5"
  }
 },
 "nbformat": 4,
 "nbformat_minor": 4
}
